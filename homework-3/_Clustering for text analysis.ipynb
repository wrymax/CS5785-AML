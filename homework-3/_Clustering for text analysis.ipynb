{
 "cells": [
  {
   "cell_type": "code",
   "execution_count": 1,
   "metadata": {
    "collapsed": true
   },
   "outputs": [],
   "source": [
    "import numpy as np\n",
    "from sklearn.cluster import KMeans\n",
    "from matplotlib import pylab as plt\n",
    "%matplotlib inline\n",
    "from ipykernel import kernelapp as app\n",
    "from sklearn.metrics.pairwise import euclidean_distances\n",
    "import pandas as pd\n",
    "from sklearn.metrics import silhouette_score\n",
    "# import sys\n",
    "# import warnings\n",
    "# if not sys.warnoptions:\n",
    "#     warnings.simplefilter(\"ignore\")"
   ]
  },
  {
   "cell_type": "code",
   "execution_count": 2,
   "metadata": {
    "collapsed": true
   },
   "outputs": [],
   "source": [
    "X = np.load(\"./data/science2k-doc-word.npy\")\n",
    "Y = np.load(\"./data/science2k-word-doc.npy\")"
   ]
  },
  {
   "cell_type": "code",
   "execution_count": 14,
   "metadata": {},
   "outputs": [
    {
     "name": "stdout",
     "output_type": "stream",
     "text": [
      "(1373, 5476)\n",
      "(5476, 1373)\n"
     ]
    }
   ],
   "source": [
    "print(X.shape)\n",
    "print(Y.shape)"
   ]
  },
  {
   "cell_type": "code",
   "execution_count": 8,
   "metadata": {},
   "outputs": [],
   "source": [
    "titles = pd.read_table('./data/science2k-titles.txt').values\n",
    "vocab = pd.read_table('./data/science2k-vocab.txt').values"
   ]
  },
  {
   "cell_type": "code",
   "execution_count": 7,
   "metadata": {},
   "outputs": [
    {
     "name": "stdout",
     "output_type": "stream",
     "text": [
      "34736463.44521062\n"
     ]
    }
   ],
   "source": [
    "inertia_X,inertia_Y = [],[]\n",
    "for k in range (1,51):\n",
    "    kmeans = KMeans(n_clusters = k, random_state=0).fit(X)\n",
    "    inertia_X.append(kmeans.inertia_)\n",
    "    kmeans = KMeans(n_clusters = k, random_state=0).fit(Y)\n",
    "    inertia_Y.append(kmeans.inertia_)"
   ]
  },
  {
   "cell_type": "code",
   "execution_count": 21,
   "metadata": {},
   "outputs": [
    {
     "data": {
      "image/png": "[encoded data removed]",
      "text/plain": [
       "<matplotlib.figure.Figure at 0x1a3b0c24a8>"
      ]
     },
     "metadata": {},
     "output_type": "display_data"
    }
   ],
   "source": [
    "fig, ax = plt.subplots()\n",
    "ax.plot(range(1,51),inertia_X,marker = \".\", color = 'red')\n",
    "ax.plot(range(1,51),inertia_Y,marker = \".\", color = 'blue')\n",
    "plt.legend(['doc-word','word-doc'])\n",
    "plt.show()"
   ]
  },
  {
   "cell_type": "code",
   "execution_count": 9,
   "metadata": {},
   "outputs": [],
   "source": [
    "### TODO: try to use silhouette analysis to select k \n",
    "#k=6,run k-means\n",
    "kmeans = KMeans(n_clusters = 6, random_state=0).fit(X)\n",
    "labels = kmeans.labels_\n",
    "clusters = kmeans.cluster_centers_\n",
    "center = np.mean(X,axis=0).reshape(1, -1)"
   ]
  },
  {
   "cell_type": "code",
   "execution_count": 11,
   "metadata": {},
   "outputs": [
    {
     "name": "stdout",
     "output_type": "stream",
     "text": [
      "i= 0\n",
      "Farthest= [[ 4 11 39 17 20 10 15 30  9  7]]\n",
      "Words= [['cell' 'vol' 'found' 'new' 'mice' 'sciencemag' 'surface' 'model' 'www'\n",
      "  'time']]\n",
      "--------------------------------------------------\n",
      "i= 1\n",
      "Farthest= [[ 50  14  73 132 120 114 113 139  18  88]]\n",
      "Words= [['binding' 'high' 'present' 'growth' 'total' 'molecules' 'animals'\n",
      "  'role' 'research' 'density']]\n",
      "--------------------------------------------------\n",
      "i= 2\n",
      "Farthest= [[ 80 202 113 204  67  21  79 197 217  59]]\n",
      "Words= [['table' 'nuclear' 'animals' 'genetic' 'long' 'proteins' 'form' 'test'\n",
      "  'treated' 'response']]\n",
      "--------------------------------------------------\n",
      "i= 3\n",
      "Farthest= [[254 248 196 326 134 101 180 257  22 276]]\n",
      "Words= [['yeast' 'ratio' 'models' 'local' 'work' 'lower' 'related' 'flow'\n",
      "  'expression' 'measurements']]\n",
      "--------------------------------------------------\n",
      "i= 4\n",
      "Farthest= [[150 110 174 113 180  99  39 161  54  67]]\n",
      "Words= [['age' 'relative' 'identified' 'animals' 'related' 'regions' 'found'\n",
      "  'sequences' 'phase' 'long']]\n",
      "--------------------------------------------------\n",
      "i= 5\n",
      "Farthest= [[158 172  33  47  46  48 136 230 151   0]]\n",
      "Words= [['gfp' 'likely' 'years' 'small' 'low' 'says' 'mutant' 'amino' 'average'\n",
      "  'cells']]\n",
      "--------------------------------------------------\n"
     ]
    }
   ],
   "source": [
    "#Top 10 words of each cluster in order of the largest positive distance from the average value across all data\n",
    "for i in range(0,6):\n",
    "    # TODO: 这里argsort是升序还是降序？应该用降序？\n",
    "    farthest = np.argsort(euclidean_distances(X[labels == i], center),axis=0)[:10] #.reshape(1,-1)\n",
    "    words = np.block([vocab[v] for v in [x for x in farthest]])\n",
    "    print ('i= %s\\nFarthest= %s\\nWords= %s' %(i, farthest.reshape(1, -1), words))\n",
    "    print('--------------------------------------------------')"
   ]
  },
  {
   "cell_type": "code",
   "execution_count": 24,
   "metadata": {},
   "outputs": [
    {
     "name": "stdout",
     "output_type": "stream",
     "text": [
      "i= 0 \n",
      "Closest= [[24  0 27 41  6 31 43 42 21 36]]\n",
      "Titles = [['Protein Interaction Mapping in C. elegans Using Proteins Involved in Vulval Development'\n",
      "  \"Baedeker's Guide, or Just Plain 'Trouble'?\"\n",
      "  'Sex Determination in Malaria Parasites'\n",
      "  'Deconstructing the Science Wars by Reconstructing an Old Mold'\n",
      "  'Brane-Worlds'\n",
      "  'Stat3-Mediated Transformation of NIH-3T3 Cells by the Constitutively Active Q205L <latex>$G\\\\alpha_o$</latex> Protein'\n",
      "  'Organizing Principles for a Diversity of GABAergic Interneurons and Synapses in the Neocortex'\n",
      "  'Cenozoic Deep-Sea Temperatures and Global Ice Volumes from Mg/Ca in Benthic Foraminiferal Calcite'\n",
      "  \"Evidence for Crystalline Water and Ammonia Ices on Pluto's Satellite Charon\"\n",
      "  'Waiting for Organ Transplantation']]\n",
      "--------------------------------------------------\n",
      "i= 1 \n",
      "Closest= [[ 67 124  17   2  57  26  41  44 151 145]]\n",
      "Titles = [['A Tail of Histone Acetylation and DNA Recombination'\n",
      "  'From Turin to Stockholm via St. Louis and Rio de Janeiro'\n",
      "  'The Galactic Center: An Interacting System of Unusual Sources'\n",
      "  'Resistance to Bt Toxins'\n",
      "  'Severely Reduced Female Fertility in CD9-Deficient Mice'\n",
      "  'Modulation of Brain Reward Circuitry by Leptin'\n",
      "  'Deconstructing the Science Wars by Reconstructing an Old Mold'\n",
      "  'Rutile-Bearing Refractory Eclogites: Missing Link between Continents and Depleted Mantle'\n",
      "  'Signals to Move Cells'\n",
      "  \"Solar Missions Brighten NASA's Hopes for Space Science Research\"]]\n",
      "--------------------------------------------------\n",
      "i= 2 \n",
      "Closest= [[142  24   6  82 214 167   8  10  95  49]]\n",
      "Titles = [['A Subclass of Ras Proteins That Regulate the Degradation of IkB'\n",
      "  'Protein Interaction Mapping in C. elegans Using Proteins Involved in Vulval Development'\n",
      "  'Brane-Worlds'\n",
      "  'Role of the Enteric Nervous System in the Fluid and Electrolyte Secretion of Rotavirus Diarrhea'\n",
      "  'Translating Stem and Progenitor Cell Biology to the Clinic: Barriers and Opportunities'\n",
      "  'Requirement for DARPP-32 in Progesterone-Facilitated Sexual Receptivity in Female Rats and Mice'\n",
      "  'Reading the Worm Genome' 'Nota Bene: Sensing Old Age'\n",
      "  'Corrections and Clarifications: Respiration without <latex>$O_2$</latex>'\n",
      "  'Formation of Cyclic Water Hexamer in Liquid Helium: The Smallest Piece of Ice']]\n",
      "--------------------------------------------------\n",
      "i= 3 \n",
      "Closest= [[ 55  44 231 113 238 181 114 301  89  88]]\n",
      "Titles = [['A Population of Murine gd T Cells That Recognize an Inducible MHC Class Ib Molecule'\n",
      "  'Rutile-Bearing Refractory Eclogites: Missing Link between Continents and Depleted Mantle'\n",
      "  'Porphyrin and Phthalocyanine Antiscrapie Compounds'\n",
      "  'Coupling of Stress in the ER to Activation of JNK Protein Kinases by Transmembrane Protein Kinase IRE1'\n",
      "  'The Spirit of Discovery'\n",
      "  'Three-Layered Atmospheric Structure in Accretion Disks around Stellar-Mass Black Holes'\n",
      "  'A Simple Model for Complex Dynamical Transitions in Epidemics'\n",
      "  'Thermal, Catalytic, Regiospecific Functionalization of Alkanes'\n",
      "  'Heretical Idea Faces Its Sternest Test'\n",
      "  'An Integrative Science Finds a Home']]\n",
      "--------------------------------------------------\n",
      "i= 4 \n",
      "Closest= [[ 25  73  33  57 152 112  63  47  45 111]]\n",
      "Titles = [['A Short Fe-Fe Distance in Peroxodiferric Ferritin: Control of Fe Substrate versus Cofactor Decay?'\n",
      "  'Mirrorless Lasing from Mesostructured Waveguides Patterned by Soft Lithography'\n",
      "  'Of Chimps and Men'\n",
      "  'Severely Reduced Female Fertility in CD9-Deficient Mice'\n",
      "  'Is Bigger Better in Cricket?'\n",
      "  'Creating a Protein-Based Element of Inheritance' 'Childhood Cancer'\n",
      "  'Communication through a Diffusive Medium: Coherence and Capacity'\n",
      "  'Influences of Dietary Uptake and Reactive Sulfides on Metal Bioavailability from Aquatic Sediments'\n",
      "  'Voltage- and Tension-Dependent Lipid Mobility in the Outer Hair Cell Plasma Membrane']]\n",
      "--------------------------------------------------\n",
      "i= 5 \n",
      "Closest= [[106  73 164  74 344 372  82 338 340 107]]\n",
      "Titles = [['Cloning and Heterologous Expression of the Epothilone Gene Cluster'\n",
      "  'Mirrorless Lasing from Mesostructured Waveguides Patterned by Soft Lithography'\n",
      "  'Function of PI3Kg in Thymocyte Development, T Cell Activation, and Neutrophil Migration'\n",
      "  'Detection of Molecular Alignment in Confined Films'\n",
      "  'A BAC-Based Physical Map of the Major Autosomes of Drosophila melanogaster'\n",
      "  'Was Lamarck Just a Little Bit Right?'\n",
      "  'Role of the Enteric Nervous System in the Fluid and Electrolyte Secretion of Rotavirus Diarrhea'\n",
      "  'Rapid Extinction of the Moas (Aves: Dinornithiformes): Model, Test, and Implications'\n",
      "  'Molecular Linkage Underlying Microtubule Orientation toward Cortical Sites in Yeast'\n",
      "  'Complementary Neural Mechanisms for Tracking Items in Human Working Memory']]\n",
      "--------------------------------------------------\n"
     ]
    }
   ],
   "source": [
    "#Top 10 documents that fall closest to each cluster center\n",
    "for i in range(0,6):\n",
    "    closest = np.argsort(euclidean_distances(X[labels == i],clusters[i].reshape(1, -1)),axis=0)[-10:]\n",
    "    ts = np.block([titles[t] for t in [x for x in closest]])\n",
    "    print ('i= %s \\nClosest= %s\\nTitles = %s' %(i, closest.reshape(1,-1),ts))\n",
    "    print('--------------------------------------------------')"
   ]
  },
  {
   "cell_type": "code",
   "execution_count": 37,
   "metadata": {},
   "outputs": [
    {
     "name": "stdout",
     "output_type": "stream",
     "text": [
      "[1, 2, 3, 4, 5, 6, 7, 8, 9]\n",
      "[0, 1, 2, 3, 4, 5, 6, 7, 8, 9]\n",
      "[90, 91, 92, 93, 94, 95, 96, 97, 98, 99]\n",
      "[90, 91, 92, 93, 94, 95, 96, 97]\n",
      "[[1 2 3]\n",
      " [4 5 6]\n",
      " [7 8 9]]\n",
      "[[4 5]\n",
      " [7 8]]\n"
     ]
    }
   ],
   "source": [
    "a = list(range(100))\n",
    "print(a[1:10])\n",
    "print(a[:10])\n",
    "print(a[90:])\n",
    "print(a[90:-2])\n",
    "b = np.array([1,2,3,4,5,6,7,8,9]).reshape(3,3)\n",
    "print(b)\n",
    "print(b[1:3,:-1])"
   ]
  },
  {
   "cell_type": "code",
   "execution_count": 18,
   "metadata": {},
   "outputs": [
    {
     "name": "stdout",
     "output_type": "stream",
     "text": [
      "[[0 1 2 3 4]\n",
      " [5 6 7 8 9]]\n"
     ]
    },
    {
     "data": {
      "text/plain": [
       "array([2.5, 3.5, 4.5, 5.5, 6.5])"
      ]
     },
     "execution_count": 18,
     "metadata": {},
     "output_type": "execute_result"
    }
   ],
   "source": [
    "z = np.array(list(range(10))).reshape(2,5)\n",
    "print(z)\n",
    "np.mean(z, axis=0)"
   ]
  },
  {
   "cell_type": "code",
   "execution_count": null,
   "metadata": {
    "collapsed": true
   },
   "outputs": [],
   "source": []
  }
 ],
 "metadata": {
  "anaconda-cloud": {},
  "kernelspec": {
   "display_name": "Python 3",
   "language": "python",
   "name": "python3"
  },
  "language_info": {
   "codemirror_mode": {
    "name": "ipython",
    "version": 2
   },
   "file_extension": ".py",
   "mimetype": "text/x-python",
   "name": "python",
   "nbconvert_exporter": "python",
   "pygments_lexer": "ipython2",
   "version": "2.7.15"
  }
 },
 "nbformat": 4,
 "nbformat_minor": 1
}
